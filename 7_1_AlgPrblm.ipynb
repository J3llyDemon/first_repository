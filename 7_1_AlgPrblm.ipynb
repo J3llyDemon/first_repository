{
  "nbformat": 4,
  "nbformat_minor": 0,
  "metadata": {
    "colab": {
      "provenance": [],
      "authorship_tag": "ABX9TyO2mNlWg4C7lW2q6JbhTWCT"
    },
    "kernelspec": {
      "name": "python3",
      "display_name": "Python 3"
    },
    "language_info": {
      "name": "python"
    }
  },
  "cells": [
    {
      "cell_type": "code",
      "execution_count": 91,
      "metadata": {
        "id": "VA41hpSI0VDJ"
      },
      "outputs": [],
      "source": [
        "import random\n",
        "\n",
        "def check_input(massiv):\n",
        "    if len(massiv) == 2:\n",
        "        if (type(massiv[0]) == int) and (type(massiv[1]) == int):\n",
        "            if (0<massiv[0]<10) and (0<massiv[1]<10):\n",
        "                if massiv[0] < massiv[1]:\n",
        "                    return True\n",
        "                else:\n",
        "                    return False\n",
        "            else:\n",
        "                return False\n",
        "        else:\n",
        "            return False\n",
        "    else:\n",
        "        return False\n",
        "\n",
        "def get_ladder(valid):\n",
        "    stairs_massiv = []\n",
        "    A, B = valid[0], valid[1]\n",
        "    N_list = range(A, B+1)\n",
        "    N = random.choice(N_list)\n",
        "    while B >= N:\n",
        "        stairs_massiv.append(\"*\"*B)\n",
        "        B = B - 1\n",
        "    while A <= N:\n",
        "        stairs_massiv.append(\"*\"*A)\n",
        "        A = A + 1\n",
        "    return stairs_massiv\n",
        "\n",
        "def main(list_of_lists):\n",
        "    for lst in list_of_lists:\n",
        "        if check_input(lst) == True:\n",
        "            output = get_ladder(lst)\n",
        "            for symb in output:\n",
        "                print(symb)\n",
        "            break\n",
        "        else:\n",
        "            continue\n",
        "    else:\n",
        "        return False"
      ]
    }
  ]
}